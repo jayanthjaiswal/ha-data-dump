{
 "cells": [
  {
   "cell_type": "markdown",
   "metadata": {},
   "source": [
    "# LSTMs for Human Activity Recognition\n",
    "\n",
    "Human activity recognition using smartwatch dataset and an LSTM RNN. Classifying the type of movement amongst six categories:\n",
    "- WALKING,\n",
    "- SITTING,\n",
    "- STANDING,\n",
    "- LAYING.\n",
    "\n",
    "Compared to a classical approach, using a Recurrent Neural Networks (RNN) with Long Short-Term Memory cells (LSTMs) require no or almost no feature engineering. Data can be fed directly into the neural network who acts like a black box, modeling the problem correctly. Other research on the activity recognition dataset used mostly use a big amount of feature engineering, which is rather a signal processing approach combined with classical data science techniques. The approach here is rather very simple in terms of how much did the data was preprocessed. \n",
    "\n",
    "## Details about input data\n",
    "\n",
    "I will be using an LSTM on the data to learn (as a smartwatch attached on the wrist) to recognise the type of activity that the user is doing. A similar dataset's description based on prior research goes like this:\n",
    "\n",
    "> The sensor signals (accelerometer and gyroscope) were pre-processed by applying noise filters and then sampled in fixed-width sliding windows of 2.56 sec and 50% overlap (128 readings/window). The sensor acceleration signal, which has gravitational and body motion components, was separated using a Butterworth low-pass filter into body acceleration and gravity. The gravitational force is assumed to have only low frequency components, therefore a filter with 0.3 Hz cutoff frequency was used. \n",
    "\n",
    "That said, I will use the almost raw data. \n",
    "\n",
    "## What is an RNN?\n",
    "\n",
    "As explained in [this article](http://karpathy.github.io/2015/05/21/rnn-effectiveness/), an RNN takes many input vectors to process them and output other vectors. It can be roughly pictured like in the image below, imagining each rectangle has a vectorial depth and other special hidden quirks in the image below. **In our case, the \"many to one\" architecture is used**: we accept time series of feature vectors (one vector per time step) to convert them to a probability vector at the output for classification. Note that a \"one to one\" architecture would be a standard feedforward neural network. \n",
    "\n",
    "<img src=\"http://karpathy.github.io/assets/rnn/diags.jpeg\" />\n",
    "\n",
    "An LSTM is an improved RNN. It is more complex, but easier to train, avoiding what is called the vanishing gradient problem. \n",
    "\n",
    "\n",
    "## Results \n",
    "\n",
    "Scroll on! Nice visuals awaits. "
   ]
  },
  {
   "cell_type": "code",
   "execution_count": 1,
   "metadata": {},
   "outputs": [
    {
     "name": "stderr",
     "output_type": "stream",
     "text": [
      "/usr/local/lib/python2.7/dist-packages/h5py/__init__.py:36: FutureWarning: Conversion of the second argument of issubdtype from `float` to `np.floating` is deprecated. In future, it will be treated as `np.float64 == np.dtype(float).type`.\n",
      "  from ._conv import register_converters as _register_converters\n"
     ]
    }
   ],
   "source": [
    "# All Includes\n",
    "\n",
    "import numpy as np\n",
    "import matplotlib\n",
    "import matplotlib.pyplot as plt\n",
    "import tensorflow as tf  # Version 1.0.0 (some previous versions are used in past commits)\n",
    "from sklearn import metrics\n",
    "\n",
    "import os"
   ]
  },
  {
   "cell_type": "code",
   "execution_count": 2,
   "metadata": {},
   "outputs": [],
   "source": [
    "# Useful Constants\n",
    "\n",
    "# Those are separate normalised input features for the neural network\n",
    "INPUT_SIGNAL_TYPES = [\n",
    "    \"body_acc_x_\",\n",
    "    \"body_acc_y_\",\n",
    "    \"body_acc_z_\",\n",
    "    \"some_label\"\n",
    "]\n",
    "\n",
    "# Output classes to learn how to classify\n",
    "LABELS = [\n",
    "    \"LAYING_DOWN\",\n",
    "    \"SITTING\",\n",
    "    \"STANDING\",\n",
    "    \"WALKING\"\n",
    "    \n",
    "] \n"
   ]
  },
  {
   "cell_type": "markdown",
   "metadata": {},
   "source": [
    "## Let's start by downloading the data: "
   ]
  },
  {
   "cell_type": "code",
   "execution_count": 3,
   "metadata": {},
   "outputs": [],
   "source": [
    "import pandas as pd\n",
    "\n",
    "input_file = \"merged_jay.csv\"\n",
    "\n",
    "# comma delimited is the default\n",
    "df = pd.read_csv(input_file, header = None, names = [\"Timestamp\",\"X\",\"Y\",\"Z\",\"P\",\"Label\"])"
   ]
  },
  {
   "cell_type": "code",
   "execution_count": 4,
   "metadata": {},
   "outputs": [],
   "source": [
    "df[\"Label\"] = df[\"Label\"].astype('category')"
   ]
  },
  {
   "cell_type": "code",
   "execution_count": 5,
   "metadata": {},
   "outputs": [
    {
     "data": {
      "text/plain": [
       "Timestamp       int64\n",
       "X             float64\n",
       "Y             float64\n",
       "Z             float64\n",
       "P               int64\n",
       "Label        category\n",
       "dtype: object"
      ]
     },
     "execution_count": 5,
     "metadata": {},
     "output_type": "execute_result"
    }
   ],
   "source": [
    "df.dtypes"
   ]
  },
  {
   "cell_type": "code",
   "execution_count": 6,
   "metadata": {},
   "outputs": [
    {
     "data": {
      "text/plain": [
       "laying_down    1232100\n",
       "sitting         384286\n",
       "walking         226655\n",
       "standing        186664\n",
       "Name: Label, dtype: int64"
      ]
     },
     "execution_count": 6,
     "metadata": {},
     "output_type": "execute_result"
    }
   ],
   "source": [
    "df[\"Label\"].value_counts()"
   ]
  },
  {
   "cell_type": "code",
   "execution_count": 7,
   "metadata": {},
   "outputs": [
    {
     "data": {
      "text/plain": [
       "0    1232100\n",
       "1     384286\n",
       "3     226655\n",
       "2     186664\n",
       "Name: Label, dtype: int64"
      ]
     },
     "execution_count": 7,
     "metadata": {},
     "output_type": "execute_result"
    }
   ],
   "source": [
    "df[\"Label\"] = df[\"Label\"].cat.codes\n",
    "df[\"Label\"].value_counts()"
   ]
  },
  {
   "cell_type": "code",
   "execution_count": 8,
   "metadata": {},
   "outputs": [
    {
     "data": {
      "text/html": [
       "<div>\n",
       "<style scoped>\n",
       "    .dataframe tbody tr th:only-of-type {\n",
       "        vertical-align: middle;\n",
       "    }\n",
       "\n",
       "    .dataframe tbody tr th {\n",
       "        vertical-align: top;\n",
       "    }\n",
       "\n",
       "    .dataframe thead th {\n",
       "        text-align: right;\n",
       "    }\n",
       "</style>\n",
       "<table border=\"1\" class=\"dataframe\">\n",
       "  <thead>\n",
       "    <tr style=\"text-align: right;\">\n",
       "      <th></th>\n",
       "      <th>Timestamp</th>\n",
       "      <th>X</th>\n",
       "      <th>Y</th>\n",
       "      <th>Z</th>\n",
       "      <th>P</th>\n",
       "      <th>Label</th>\n",
       "    </tr>\n",
       "  </thead>\n",
       "  <tbody>\n",
       "    <tr>\n",
       "      <th>count</th>\n",
       "      <td>2.029705e+06</td>\n",
       "      <td>2.029705e+06</td>\n",
       "      <td>2.029705e+06</td>\n",
       "      <td>2.029705e+06</td>\n",
       "      <td>2.029705e+06</td>\n",
       "      <td>2.029705e+06</td>\n",
       "    </tr>\n",
       "    <tr>\n",
       "      <th>mean</th>\n",
       "      <td>1.519213e+12</td>\n",
       "      <td>2.196267e+00</td>\n",
       "      <td>5.010439e-01</td>\n",
       "      <td>4.797433e+00</td>\n",
       "      <td>2.859706e+00</td>\n",
       "      <td>7.082699e-01</td>\n",
       "    </tr>\n",
       "    <tr>\n",
       "      <th>std</th>\n",
       "      <td>1.270435e+08</td>\n",
       "      <td>5.581570e+00</td>\n",
       "      <td>5.467828e+00</td>\n",
       "      <td>2.523419e+00</td>\n",
       "      <td>3.472917e-01</td>\n",
       "      <td>1.029840e+00</td>\n",
       "    </tr>\n",
       "    <tr>\n",
       "      <th>min</th>\n",
       "      <td>1.519084e+12</td>\n",
       "      <td>-1.960391e+01</td>\n",
       "      <td>-1.960391e+01</td>\n",
       "      <td>-1.960391e+01</td>\n",
       "      <td>2.000000e+00</td>\n",
       "      <td>0.000000e+00</td>\n",
       "    </tr>\n",
       "    <tr>\n",
       "      <th>25%</th>\n",
       "      <td>1.519087e+12</td>\n",
       "      <td>-2.159063e+00</td>\n",
       "      <td>-5.108028e+00</td>\n",
       "      <td>3.719717e+00</td>\n",
       "      <td>3.000000e+00</td>\n",
       "      <td>0.000000e+00</td>\n",
       "    </tr>\n",
       "    <tr>\n",
       "      <th>50%</th>\n",
       "      <td>1.519220e+12</td>\n",
       "      <td>4.409085e+00</td>\n",
       "      <td>2.676090e+00</td>\n",
       "      <td>4.772918e+00</td>\n",
       "      <td>3.000000e+00</td>\n",
       "      <td>0.000000e+00</td>\n",
       "    </tr>\n",
       "    <tr>\n",
       "      <th>75%</th>\n",
       "      <td>1.519284e+12</td>\n",
       "      <td>6.975067e+00</td>\n",
       "      <td>5.242072e+00</td>\n",
       "      <td>6.659107e+00</td>\n",
       "      <td>3.000000e+00</td>\n",
       "      <td>1.000000e+00</td>\n",
       "    </tr>\n",
       "    <tr>\n",
       "      <th>max</th>\n",
       "      <td>1.519759e+12</td>\n",
       "      <td>1.959434e+01</td>\n",
       "      <td>1.568648e+02</td>\n",
       "      <td>1.959434e+01</td>\n",
       "      <td>3.000000e+00</td>\n",
       "      <td>3.000000e+00</td>\n",
       "    </tr>\n",
       "  </tbody>\n",
       "</table>\n",
       "</div>"
      ],
      "text/plain": [
       "          Timestamp             X             Y             Z             P  \\\n",
       "count  2.029705e+06  2.029705e+06  2.029705e+06  2.029705e+06  2.029705e+06   \n",
       "mean   1.519213e+12  2.196267e+00  5.010439e-01  4.797433e+00  2.859706e+00   \n",
       "std    1.270435e+08  5.581570e+00  5.467828e+00  2.523419e+00  3.472917e-01   \n",
       "min    1.519084e+12 -1.960391e+01 -1.960391e+01 -1.960391e+01  2.000000e+00   \n",
       "25%    1.519087e+12 -2.159063e+00 -5.108028e+00  3.719717e+00  3.000000e+00   \n",
       "50%    1.519220e+12  4.409085e+00  2.676090e+00  4.772918e+00  3.000000e+00   \n",
       "75%    1.519284e+12  6.975067e+00  5.242072e+00  6.659107e+00  3.000000e+00   \n",
       "max    1.519759e+12  1.959434e+01  1.568648e+02  1.959434e+01  3.000000e+00   \n",
       "\n",
       "              Label  \n",
       "count  2.029705e+06  \n",
       "mean   7.082699e-01  \n",
       "std    1.029840e+00  \n",
       "min    0.000000e+00  \n",
       "25%    0.000000e+00  \n",
       "50%    0.000000e+00  \n",
       "75%    1.000000e+00  \n",
       "max    3.000000e+00  "
      ]
     },
     "execution_count": 8,
     "metadata": {},
     "output_type": "execute_result"
    }
   ],
   "source": [
    "df.describe()"
   ]
  },
  {
   "cell_type": "code",
   "execution_count": 9,
   "metadata": {},
   "outputs": [],
   "source": [
    "# create a numpy array with the numeric values for input into scikit-learn\n",
    "numpy_array = df.as_matrix()"
   ]
  },
  {
   "cell_type": "code",
   "execution_count": 10,
   "metadata": {},
   "outputs": [
    {
     "data": {
      "text/plain": [
       "(2029705, 6)"
      ]
     },
     "execution_count": 10,
     "metadata": {},
     "output_type": "execute_result"
    }
   ],
   "source": [
    "numpy_array.shape"
   ]
  },
  {
   "cell_type": "code",
   "execution_count": 11,
   "metadata": {},
   "outputs": [],
   "source": [
    "import random\n",
    "from scipy import stats\n",
    "X = []\n",
    "Y = []\n",
    "random.seed(1337)\n",
    "data_size = 10000\n",
    "while(len(X)<data_size):\n",
    "    l = random.randint(0, numpy_array.shape[0]-512)\n",
    "    X_values = numpy_array[l:l+512,1:5]\n",
    "    Y_values = numpy_array[l:l+512,5]\n",
    "    if (stats.describe(Y_values)[1][0] == stats.describe(Y_values)[1][1])and (stats.describe(Y_values)[1][0]!=-1): #if min and max are same\n",
    "        X.append(X_values)\n",
    "        Y.append(stats.describe(Y_values)[1][0])"
   ]
  },
  {
   "cell_type": "code",
   "execution_count": 12,
   "metadata": {},
   "outputs": [
    {
     "name": "stdout",
     "output_type": "stream",
     "text": [
      "(10000, 512, 4)\n",
      "(10000,)\n"
     ]
    }
   ],
   "source": [
    "X = np.asarray(X)\n",
    "Y = np.asarray(Y)\n",
    "print(X.shape)\n",
    "print(Y.shape)"
   ]
  },
  {
   "cell_type": "markdown",
   "metadata": {},
   "source": [
    "## Preparing dataset:"
   ]
  },
  {
   "cell_type": "code",
   "execution_count": 13,
   "metadata": {},
   "outputs": [],
   "source": [
    "split = int(.9*data_size)\n",
    "X_train = X[0:split,]\n",
    "y_train = Y[0:split,]\n",
    "X_test = X[split:data_size,]\n",
    "y_test = Y[split:data_size,]"
   ]
  },
  {
   "cell_type": "code",
   "execution_count": 14,
   "metadata": {},
   "outputs": [
    {
     "name": "stdout",
     "output_type": "stream",
     "text": [
      "(9000, 512, 4)\n",
      "(9000,)\n",
      "set([0.0, 1.0, 2.0, 3.0])\n",
      "(1000, 512, 4)\n",
      "(1000,)\n",
      "set([0.0, 1.0, 2.0, 3.0])\n"
     ]
    }
   ],
   "source": [
    "print(X_train.shape)\n",
    "print(y_train.shape)\n",
    "print(set(y_train))\n",
    "print(X_test.shape)\n",
    "print(y_test.shape)\n",
    "print(set(y_test))"
   ]
  },
  {
   "cell_type": "markdown",
   "metadata": {},
   "source": [
    "# Testing on Cross subject dataset"
   ]
  },
  {
   "cell_type": "code",
   "execution_count": 15,
   "metadata": {},
   "outputs": [],
   "source": [
    "input_file = \"merged_shr.csv\"\n",
    "\n",
    "# comma delimited is the default\n",
    "df = pd.read_csv(input_file, header = 0, names = [\"Timestamp\",\"X\",\"Y\",\"Z\",\"P\",\"Label\"])\n",
    "df[\"Label\"] = df[\"Label\"].astype('category')\n"
   ]
  },
  {
   "cell_type": "code",
   "execution_count": 16,
   "metadata": {},
   "outputs": [
    {
     "data": {
      "text/plain": [
       "laying_down    1134246\n",
       "sitting        1015813\n",
       "walking         673939\n",
       "standing        641209\n",
       "Name: Label, dtype: int64"
      ]
     },
     "execution_count": 16,
     "metadata": {},
     "output_type": "execute_result"
    }
   ],
   "source": [
    "df[\"Label\"].value_counts()"
   ]
  },
  {
   "cell_type": "code",
   "execution_count": 17,
   "metadata": {},
   "outputs": [
    {
     "data": {
      "text/plain": [
       " 0    1134246\n",
       " 1    1015813\n",
       " 3     673939\n",
       " 2     641209\n",
       "-1      28747\n",
       "Name: Label, dtype: int64"
      ]
     },
     "execution_count": 17,
     "metadata": {},
     "output_type": "execute_result"
    }
   ],
   "source": [
    "df[\"Label\"] = df[\"Label\"].cat.codes\n",
    "df[\"Label\"].value_counts()"
   ]
  },
  {
   "cell_type": "code",
   "execution_count": 18,
   "metadata": {},
   "outputs": [],
   "source": [
    "numpy_array = df.as_matrix()\n",
    "X_c = []\n",
    "Y_c = []\n",
    "random.seed(101)\n",
    "data_size = 10000\n",
    "while(len(X_c)<data_size):\n",
    "    l = random.randint(0, numpy_array.shape[0]-512)\n",
    "    X_values = numpy_array[l:l+512,1:5]\n",
    "    Y_values = numpy_array[l:l+512,5]\n",
    "    if (stats.describe(Y_values)[1][0] == stats.describe(Y_values)[1][1]) and (stats.describe(Y_values)[1][0]!=-1): #if min and max are same\n",
    "        X_c.append(X_values)\n",
    "        Y_c.append(stats.describe(Y_values)[1][0])\n",
    "X_c = np.asarray(X_c)\n",
    "Y_c = np.asarray(Y_c)"
   ]
  },
  {
   "cell_type": "code",
   "execution_count": 19,
   "metadata": {},
   "outputs": [
    {
     "name": "stdout",
     "output_type": "stream",
     "text": [
      "(10000, 512, 4)\n",
      "(10000,)\n",
      "set([0.0, 1.0, 2.0, 3.0])\n"
     ]
    }
   ],
   "source": [
    "print(X_c.shape)\n",
    "print(Y_c.shape)\n",
    "print(set(Y_c))"
   ]
  },
  {
   "cell_type": "markdown",
   "metadata": {},
   "source": [
    "## Additionnal Parameters:\n",
    "\n",
    "Here are some core parameter definitions for the training. \n",
    "\n",
    "The whole neural network's structure could be summarised by enumerating those parameters and the fact an LSTM is used. "
   ]
  },
  {
   "cell_type": "code",
   "execution_count": 20,
   "metadata": {},
   "outputs": [
    {
     "name": "stdout",
     "output_type": "stream",
     "text": [
      "Some useful info to get an insight on dataset's shape and normalisation:\n",
      "(X shape, y shape, every X's mean, every X's standard deviation)\n",
      "((1000, 512, 4), (1000,), 2.5607604715790657, 4.409608106139619)\n",
      "The dataset is therefore properly normalised, as expected, but not yet one-hot encoded.\n"
     ]
    }
   ],
   "source": [
    "# Input Data \n",
    "\n",
    "training_data_count = len(X_train)  # 9000 training series (with 50% overlap between each serie)\n",
    "test_data_count = len(X_test)  # 1000 testing series\n",
    "n_steps = len(X_train[0])  # 512 timesteps per series\n",
    "n_input = len(X_train[0][0])  # 4 input parameters per timestep\n",
    "\n",
    "\n",
    "# LSTM Neural Network's internal structure\n",
    "\n",
    "n_hidden = 32 # Hidden layer num of features\n",
    "n_classes = 4 # Total classes (should go up, or should go down)\n",
    "\n",
    "\n",
    "# Training \n",
    "\n",
    "learning_rate = 0.0025\n",
    "dropout = 0.8\n",
    "lambda_loss_amount = 0.0015\n",
    "training_iters = training_data_count * 100  # Loop 10 times on the dataset\n",
    "batch_size = 100\n",
    "display_iter = 10000  # To show test set accuracy during training\n",
    "\n",
    "\n",
    "# Some debugging info\n",
    "\n",
    "print(\"Some useful info to get an insight on dataset's shape and normalisation:\")\n",
    "print(\"(X shape, y shape, every X's mean, every X's standard deviation)\")\n",
    "print(X_test.shape, y_test.shape, np.mean(X_test), np.std(X_test))\n",
    "print(\"The dataset is therefore properly normalised, as expected, but not yet one-hot encoded.\")\n"
   ]
  },
  {
   "cell_type": "code",
   "execution_count": 21,
   "metadata": {},
   "outputs": [
    {
     "data": {
      "text/plain": [
       "DescribeResult(nobs=1000, minmax=(0.0, 3.0), mean=0.75, variance=1.1206206206206206, skewness=1.1238891379506741, kurtosis=-0.17419048931793135)"
      ]
     },
     "execution_count": 21,
     "metadata": {},
     "output_type": "execute_result"
    }
   ],
   "source": [
    "stats.describe(y_test)"
   ]
  },
  {
   "cell_type": "markdown",
   "metadata": {},
   "source": [
    "## Utility functions for training:"
   ]
  },
  {
   "cell_type": "code",
   "execution_count": 22,
   "metadata": {},
   "outputs": [],
   "source": [
    "def LSTM_RNN(_X, _weights, _biases, _keep_prob):\n",
    "    # Function returns a tensorflow LSTM (RNN) artificial neural network from given parameters. \n",
    "    # Moreover, two LSTM cells are stacked which adds deepness to the neural network. \n",
    "    # Note, some code of this notebook is inspired from an slightly different \n",
    "    # RNN architecture used on another dataset, some of the credits goes to \n",
    "    # \"aymericdamien\" under the MIT license.\n",
    "\n",
    "    # (NOTE: This step could be greatly optimised by shaping the dataset once\n",
    "    # input shape: (batch_size, n_steps, n_input)\n",
    "    _X = tf.transpose(_X, [1, 0, 2])  # permute n_steps and batch_size\n",
    "    # Reshape to prepare input to hidden activation\n",
    "    _X = tf.reshape(_X, [-1, n_input]) \n",
    "    # new shape: (n_steps*batch_size, n_input)\n",
    "    \n",
    "    # Linear activation\n",
    "    _X = tf.matmul(_X, _weights['hidden']) + _biases['hidden']\n",
    "    # Dropout\n",
    "    _X = tf.nn.dropout(_X, _keep_prob)\n",
    "    #RELU\n",
    "    _X = tf.nn.relu(_X)\n",
    "    # Split data because rnn cell needs a list of inputs for the RNN inner loop\n",
    "    _X = tf.split(_X, n_steps, 0) \n",
    "    # new shape: n_steps * (batch_size, n_hidden)\n",
    "\n",
    "    # Define two stacked LSTM cells (two recurrent layers deep) with tensorflow\n",
    "    lstm_cell_1 = tf.contrib.rnn.BasicLSTMCell(n_hidden, forget_bias=1.0, state_is_tuple=True)\n",
    "    lstm_cell_2 = tf.contrib.rnn.BasicLSTMCell(n_hidden, forget_bias=1.0, state_is_tuple=True)\n",
    "    lstm_cells = tf.contrib.rnn.MultiRNNCell([lstm_cell_1, lstm_cell_2], state_is_tuple=True)\n",
    "    # Get LSTM cell output\n",
    "    outputs, states = tf.contrib.rnn.static_rnn(lstm_cells, _X, dtype=tf.float32)\n",
    "\n",
    "    # Get last time step's output feature for a \"many to one\" style classifier, \n",
    "    # as in the image describing RNNs at the top of this page\n",
    "    lstm_last_output = outputs[-1]\n",
    "    \n",
    "    # Linear activation\n",
    "    return tf.matmul(lstm_last_output, _weights['out']) + _biases['out']\n",
    "\n",
    "\n",
    "def extract_batch_size(_train, step, batch_size):\n",
    "    # Function to fetch a \"batch_size\" amount of data from \"(X|y)_train\" data. \n",
    "    \n",
    "    shape = list(_train.shape)\n",
    "    shape[0] = batch_size\n",
    "    batch_s = np.empty(shape)\n",
    "\n",
    "    for i in range(batch_size):\n",
    "        # Loop index\n",
    "        index = ((step-1)*batch_size + i) % len(_train)\n",
    "        batch_s[i] = _train[index] \n",
    "\n",
    "    return batch_s\n",
    "\n",
    "\n",
    "def one_hot(y_):\n",
    "    # Function to encode output labels from number indexes \n",
    "    # e.g.: [[5], [0], [3]] --> [[0, 0, 0, 0, 0, 1], [1, 0, 0, 0, 0, 0], [0, 0, 0, 1, 0, 0]]\n",
    "    \n",
    "    y_ = y_.reshape(len(y_))\n",
    "    n_values = int(np.max(y_)) + 1\n",
    "    return np.eye(n_values)[np.array(y_, dtype=np.int32)]  # Returns FLOATS\n"
   ]
  },
  {
   "cell_type": "code",
   "execution_count": 23,
   "metadata": {},
   "outputs": [
    {
     "data": {
      "text/plain": [
       "array([[0., 0., 0., 1.],\n",
       "       [1., 0., 0., 0.],\n",
       "       [0., 0., 0., 1.]])"
      ]
     },
     "execution_count": 23,
     "metadata": {},
     "output_type": "execute_result"
    }
   ],
   "source": [
    "one_hot(np.asarray([[3], [0], [3]]))"
   ]
  },
  {
   "cell_type": "markdown",
   "metadata": {},
   "source": [
    "## Let's get serious and build the neural network:"
   ]
  },
  {
   "cell_type": "code",
   "execution_count": 24,
   "metadata": {},
   "outputs": [
    {
     "name": "stdout",
     "output_type": "stream",
     "text": [
      "WARNING:tensorflow:From <ipython-input-24-82e0b5a521df>:23: softmax_cross_entropy_with_logits (from tensorflow.python.ops.nn_ops) is deprecated and will be removed in a future version.\n",
      "Instructions for updating:\n",
      "\n",
      "Future major versions of TensorFlow will allow gradients to flow\n",
      "into the labels input on backprop by default.\n",
      "\n",
      "See tf.nn.softmax_cross_entropy_with_logits_v2.\n",
      "\n"
     ]
    }
   ],
   "source": [
    "tf.reset_default_graph()\n",
    "# Graph input/output\n",
    "x = tf.placeholder(tf.float32, [None, n_steps, n_input])\n",
    "y = tf.placeholder(tf.float32, [None, n_classes])\n",
    "keep_prob = tf.placeholder(tf.float32)\n",
    "\n",
    "# Graph weights\n",
    "weights = {\n",
    "    'hidden': tf.Variable(tf.random_normal([n_input, n_hidden])), # Hidden layer weights\n",
    "    'out': tf.Variable(tf.random_normal([n_hidden, n_classes], mean=1.0))\n",
    "}\n",
    "biases = {\n",
    "    'hidden': tf.Variable(tf.random_normal([n_hidden])),\n",
    "    'out': tf.Variable(tf.random_normal([n_classes]))\n",
    "}\n",
    "\n",
    "pred = LSTM_RNN(x, weights, biases, keep_prob)\n",
    "\n",
    "# Loss, optimizer and evaluation\n",
    "l2 = lambda_loss_amount * sum(\n",
    "    tf.nn.l2_loss(tf_var) for tf_var in tf.trainable_variables()\n",
    ") # L2 loss prevents this overkill neural network to overfit the data\n",
    "cost = tf.reduce_mean(tf.nn.softmax_cross_entropy_with_logits(labels=y, logits=pred)) + l2 # Softmax loss\n",
    "optimizer = tf.train.AdamOptimizer(learning_rate=learning_rate).minimize(cost) # Adam Optimizer\n",
    "\n",
    "correct_pred = tf.equal(tf.argmax(pred,1), tf.argmax(y,1))\n",
    "accuracy = tf.reduce_mean(tf.cast(correct_pred, tf.float32))\n"
   ]
  },
  {
   "cell_type": "markdown",
   "metadata": {},
   "source": [
    "## Hooray, now train the neural network:"
   ]
  },
  {
   "cell_type": "code",
   "execution_count": 25,
   "metadata": {
    "scrolled": false
   },
   "outputs": [
    {
     "name": "stdout",
     "output_type": "stream",
     "text": [
      "Training iter #100:   Batch Loss = 2.493585, Accuracy = 0.119999997318\n",
      "PERFORMANCE ON TEST SET: Batch Loss = 1.80390822887, Accuracy = 0.137999996543\n",
      "PERFORMANCE ON CROSS TEST SET: Batch Loss = 1.85620200634, Accuracy = 0.212699994445\n",
      "Training iter #10000:   Batch Loss = 0.635054, Accuracy = 0.910000026226\n",
      "PERFORMANCE ON TEST SET: Batch Loss = 0.645298361778, Accuracy = 0.889999985695\n",
      "PERFORMANCE ON CROSS TEST SET: Batch Loss = 1.55128920078, Accuracy = 0.571699976921\n",
      "Training iter #20000:   Batch Loss = 0.477034, Accuracy = 0.939999997616\n",
      "PERFORMANCE ON TEST SET: Batch Loss = 0.57845801115, Accuracy = 0.893999993801\n",
      "PERFORMANCE ON CROSS TEST SET: Batch Loss = 1.55063712597, Accuracy = 0.593599975109\n",
      "Training iter #30000:   Batch Loss = 0.461682, Accuracy = 0.920000016689\n",
      "PERFORMANCE ON TEST SET: Batch Loss = 0.532626211643, Accuracy = 0.907000005245\n",
      "PERFORMANCE ON CROSS TEST SET: Batch Loss = 1.42666113377, Accuracy = 0.631299972534\n",
      "Training iter #40000:   Batch Loss = 0.568649, Accuracy = 0.879999995232\n",
      "PERFORMANCE ON TEST SET: Batch Loss = 0.546203494072, Accuracy = 0.889999985695\n",
      "PERFORMANCE ON CROSS TEST SET: Batch Loss = 1.41982352734, Accuracy = 0.605199992657\n",
      "Training iter #50000:   Batch Loss = 0.485309, Accuracy = 0.910000026226\n",
      "PERFORMANCE ON TEST SET: Batch Loss = 0.483626961708, Accuracy = 0.903999984264\n",
      "PERFORMANCE ON CROSS TEST SET: Batch Loss = 1.53215658665, Accuracy = 0.583800017834\n",
      "Training iter #60000:   Batch Loss = 0.582605, Accuracy = 0.870000004768\n",
      "PERFORMANCE ON TEST SET: Batch Loss = 0.51936686039, Accuracy = 0.878000020981\n",
      "PERFORMANCE ON CROSS TEST SET: Batch Loss = 1.37561929226, Accuracy = 0.575100004673\n",
      "Training iter #70000:   Batch Loss = 0.388220, Accuracy = 0.930000007153\n",
      "PERFORMANCE ON TEST SET: Batch Loss = 0.482522755861, Accuracy = 0.903999984264\n",
      "PERFORMANCE ON CROSS TEST SET: Batch Loss = 1.29366648197, Accuracy = 0.618600010872\n",
      "Training iter #80000:   Batch Loss = 0.457356, Accuracy = 0.920000016689\n",
      "PERFORMANCE ON TEST SET: Batch Loss = 0.447108864784, Accuracy = 0.911000013351\n",
      "PERFORMANCE ON CROSS TEST SET: Batch Loss = 1.25553286076, Accuracy = 0.662899971008\n",
      "Training iter #90000:   Batch Loss = 0.349251, Accuracy = 0.949999988079\n",
      "PERFORMANCE ON TEST SET: Batch Loss = 0.459418535233, Accuracy = 0.902000010014\n",
      "PERFORMANCE ON CROSS TEST SET: Batch Loss = 1.36126875877, Accuracy = 0.654699981213\n",
      "Training iter #100000:   Batch Loss = 0.405214, Accuracy = 0.939999997616\n",
      "PERFORMANCE ON TEST SET: Batch Loss = 0.510625302792, Accuracy = 0.89099997282\n",
      "PERFORMANCE ON CROSS TEST SET: Batch Loss = 1.22046172619, Accuracy = 0.666999995708\n",
      "Training iter #110000:   Batch Loss = 0.265482, Accuracy = 0.949999988079\n",
      "PERFORMANCE ON TEST SET: Batch Loss = 0.449051558971, Accuracy = 0.898999989033\n",
      "PERFORMANCE ON CROSS TEST SET: Batch Loss = 1.27441418171, Accuracy = 0.682799994946\n",
      "Training iter #120000:   Batch Loss = 0.300088, Accuracy = 0.949999988079\n",
      "PERFORMANCE ON TEST SET: Batch Loss = 0.43093419075, Accuracy = 0.913999974728\n",
      "PERFORMANCE ON CROSS TEST SET: Batch Loss = 1.16429364681, Accuracy = 0.695900022984\n",
      "Training iter #130000:   Batch Loss = 0.352399, Accuracy = 0.959999978542\n",
      "PERFORMANCE ON TEST SET: Batch Loss = 0.442231506109, Accuracy = 0.908999979496\n",
      "PERFORMANCE ON CROSS TEST SET: Batch Loss = 1.18643891811, Accuracy = 0.694100022316\n",
      "Training iter #140000:   Batch Loss = 0.296384, Accuracy = 0.949999988079\n",
      "PERFORMANCE ON TEST SET: Batch Loss = 0.382230162621, Accuracy = 0.920000016689\n",
      "PERFORMANCE ON CROSS TEST SET: Batch Loss = 1.23688876629, Accuracy = 0.631399989128\n",
      "Training iter #150000:   Batch Loss = 0.337189, Accuracy = 0.930000007153\n",
      "PERFORMANCE ON TEST SET: Batch Loss = 0.430149435997, Accuracy = 0.880999982357\n",
      "PERFORMANCE ON CROSS TEST SET: Batch Loss = 1.34659945965, Accuracy = 0.586600005627\n",
      "Training iter #160000:   Batch Loss = 0.276923, Accuracy = 0.959999978542\n",
      "PERFORMANCE ON TEST SET: Batch Loss = 0.382558822632, Accuracy = 0.898999989033\n",
      "PERFORMANCE ON CROSS TEST SET: Batch Loss = 1.31117379665, Accuracy = 0.591799974442\n",
      "Training iter #170000:   Batch Loss = 0.371746, Accuracy = 0.939999997616\n",
      "PERFORMANCE ON TEST SET: Batch Loss = 0.359826982021, Accuracy = 0.92199999094\n",
      "PERFORMANCE ON CROSS TEST SET: Batch Loss = 1.29528951645, Accuracy = 0.63789999485\n",
      "Training iter #180000:   Batch Loss = 0.261880, Accuracy = 0.939999997616\n",
      "PERFORMANCE ON TEST SET: Batch Loss = 0.382983565331, Accuracy = 0.897000014782\n",
      "PERFORMANCE ON CROSS TEST SET: Batch Loss = 1.56380093098, Accuracy = 0.523400008678\n",
      "Training iter #190000:   Batch Loss = 0.322575, Accuracy = 0.949999988079\n",
      "PERFORMANCE ON TEST SET: Batch Loss = 0.343938559294, Accuracy = 0.917999982834\n",
      "PERFORMANCE ON CROSS TEST SET: Batch Loss = 1.41698217392, Accuracy = 0.600300014019\n",
      "Training iter #200000:   Batch Loss = 0.237758, Accuracy = 0.959999978542\n",
      "PERFORMANCE ON TEST SET: Batch Loss = 0.355925828218, Accuracy = 0.911000013351\n",
      "PERFORMANCE ON CROSS TEST SET: Batch Loss = 1.32473039627, Accuracy = 0.665000021458\n",
      "Training iter #210000:   Batch Loss = 0.258612, Accuracy = 0.949999988079\n",
      "PERFORMANCE ON TEST SET: Batch Loss = 0.371686965227, Accuracy = 0.911000013351\n",
      "PERFORMANCE ON CROSS TEST SET: Batch Loss = 1.56869220734, Accuracy = 0.580399990082\n",
      "Training iter #220000:   Batch Loss = 0.373464, Accuracy = 0.920000016689\n",
      "PERFORMANCE ON TEST SET: Batch Loss = 0.422125399113, Accuracy = 0.908999979496\n",
      "PERFORMANCE ON CROSS TEST SET: Batch Loss = 1.44838392735, Accuracy = 0.641900002956\n",
      "Training iter #230000:   Batch Loss = 0.403666, Accuracy = 0.920000016689\n",
      "PERFORMANCE ON TEST SET: Batch Loss = 0.32734054327, Accuracy = 0.929000020027\n",
      "PERFORMANCE ON CROSS TEST SET: Batch Loss = 1.2173923254, Accuracy = 0.679300010204\n",
      "Training iter #240000:   Batch Loss = 0.347174, Accuracy = 0.920000016689\n",
      "PERFORMANCE ON TEST SET: Batch Loss = 0.381307899952, Accuracy = 0.912000000477\n",
      "PERFORMANCE ON CROSS TEST SET: Batch Loss = 1.50893080235, Accuracy = 0.618900001049\n",
      "Training iter #250000:   Batch Loss = 0.180620, Accuracy = 0.980000019073\n",
      "PERFORMANCE ON TEST SET: Batch Loss = 0.34989798069, Accuracy = 0.922999978065\n",
      "PERFORMANCE ON CROSS TEST SET: Batch Loss = 1.60635042191, Accuracy = 0.618799984455\n",
      "Training iter #260000:   Batch Loss = 0.302078, Accuracy = 0.959999978542\n",
      "PERFORMANCE ON TEST SET: Batch Loss = 0.350293517113, Accuracy = 0.917999982834\n",
      "PERFORMANCE ON CROSS TEST SET: Batch Loss = 1.44565808773, Accuracy = 0.622600018978\n",
      "Training iter #270000:   Batch Loss = 0.230211, Accuracy = 0.959999978542\n",
      "PERFORMANCE ON TEST SET: Batch Loss = 0.403049856424, Accuracy = 0.908999979496\n",
      "PERFORMANCE ON CROSS TEST SET: Batch Loss = 1.3600165844, Accuracy = 0.612200021744\n",
      "Training iter #280000:   Batch Loss = 0.267338, Accuracy = 0.97000002861\n",
      "PERFORMANCE ON TEST SET: Batch Loss = 0.334786206484, Accuracy = 0.921000003815\n",
      "PERFORMANCE ON CROSS TEST SET: Batch Loss = 1.41243112087, Accuracy = 0.621699988842\n",
      "Training iter #290000:   Batch Loss = 0.191446, Accuracy = 0.980000019073\n",
      "PERFORMANCE ON TEST SET: Batch Loss = 0.320279896259, Accuracy = 0.930000007153\n",
      "PERFORMANCE ON CROSS TEST SET: Batch Loss = 1.40548932552, Accuracy = 0.614899992943\n",
      "Training iter #300000:   Batch Loss = 0.186030, Accuracy = 0.980000019073\n",
      "PERFORMANCE ON TEST SET: Batch Loss = 0.324155151844, Accuracy = 0.925999999046\n",
      "PERFORMANCE ON CROSS TEST SET: Batch Loss = 1.22576749325, Accuracy = 0.669300019741\n",
      "Training iter #310000:   Batch Loss = 0.388840, Accuracy = 0.899999976158\n",
      "PERFORMANCE ON TEST SET: Batch Loss = 0.33408421278, Accuracy = 0.935000002384\n",
      "PERFORMANCE ON CROSS TEST SET: Batch Loss = 1.54557037354, Accuracy = 0.582000017166\n",
      "Training iter #320000:   Batch Loss = 0.226174, Accuracy = 0.97000002861\n",
      "PERFORMANCE ON TEST SET: Batch Loss = 0.301716566086, Accuracy = 0.934000015259\n",
      "PERFORMANCE ON CROSS TEST SET: Batch Loss = 1.47535407543, Accuracy = 0.608200013638\n",
      "Training iter #330000:   Batch Loss = 0.255381, Accuracy = 0.939999997616\n",
      "PERFORMANCE ON TEST SET: Batch Loss = 0.325705349445, Accuracy = 0.925999999046\n",
      "PERFORMANCE ON CROSS TEST SET: Batch Loss = 1.57699429989, Accuracy = 0.604499995708\n",
      "Training iter #340000:   Batch Loss = 0.217687, Accuracy = 0.949999988079\n",
      "PERFORMANCE ON TEST SET: Batch Loss = 0.36672988534, Accuracy = 0.907000005245\n"
     ]
    },
    {
     "name": "stdout",
     "output_type": "stream",
     "text": [
      "PERFORMANCE ON CROSS TEST SET: Batch Loss = 1.16763222218, Accuracy = 0.62809997797\n",
      "Training iter #350000:   Batch Loss = 0.276754, Accuracy = 0.959999978542\n",
      "PERFORMANCE ON TEST SET: Batch Loss = 0.286339968443, Accuracy = 0.940999984741\n",
      "PERFORMANCE ON CROSS TEST SET: Batch Loss = 1.33381974697, Accuracy = 0.649500012398\n",
      "Training iter #360000:   Batch Loss = 0.207546, Accuracy = 0.97000002861\n",
      "PERFORMANCE ON TEST SET: Batch Loss = 0.293058484793, Accuracy = 0.947000026703\n",
      "PERFORMANCE ON CROSS TEST SET: Batch Loss = 1.39176118374, Accuracy = 0.66369998455\n",
      "Training iter #370000:   Batch Loss = 0.261898, Accuracy = 0.959999978542\n",
      "PERFORMANCE ON TEST SET: Batch Loss = 0.295982509851, Accuracy = 0.925999999046\n",
      "PERFORMANCE ON CROSS TEST SET: Batch Loss = 1.11862337589, Accuracy = 0.664099991322\n",
      "Training iter #380000:   Batch Loss = 0.204951, Accuracy = 0.959999978542\n",
      "PERFORMANCE ON TEST SET: Batch Loss = 0.330445021391, Accuracy = 0.930999994278\n",
      "PERFORMANCE ON CROSS TEST SET: Batch Loss = 1.33890366554, Accuracy = 0.620400011539\n",
      "Training iter #390000:   Batch Loss = 0.148880, Accuracy = 1.0\n",
      "PERFORMANCE ON TEST SET: Batch Loss = 0.292744100094, Accuracy = 0.940999984741\n",
      "PERFORMANCE ON CROSS TEST SET: Batch Loss = 1.39854478836, Accuracy = 0.665099978447\n",
      "Training iter #400000:   Batch Loss = 0.225071, Accuracy = 0.949999988079\n",
      "PERFORMANCE ON TEST SET: Batch Loss = 0.336314171553, Accuracy = 0.934000015259\n",
      "PERFORMANCE ON CROSS TEST SET: Batch Loss = 1.21370911598, Accuracy = 0.654699981213\n",
      "Training iter #410000:   Batch Loss = 0.175549, Accuracy = 0.990000009537\n",
      "PERFORMANCE ON TEST SET: Batch Loss = 0.268579721451, Accuracy = 0.949000000954\n",
      "PERFORMANCE ON CROSS TEST SET: Batch Loss = 1.26840305328, Accuracy = 0.663600027561\n",
      "Training iter #420000:   Batch Loss = 0.210947, Accuracy = 0.97000002861\n",
      "PERFORMANCE ON TEST SET: Batch Loss = 0.265414088964, Accuracy = 0.947000026703\n",
      "PERFORMANCE ON CROSS TEST SET: Batch Loss = 1.23299109936, Accuracy = 0.63630002737\n",
      "Training iter #430000:   Batch Loss = 0.166420, Accuracy = 0.980000019073\n",
      "PERFORMANCE ON TEST SET: Batch Loss = 0.285236954689, Accuracy = 0.941999971867\n",
      "PERFORMANCE ON CROSS TEST SET: Batch Loss = 1.31565868855, Accuracy = 0.688199996948\n",
      "Training iter #440000:   Batch Loss = 0.263504, Accuracy = 0.97000002861\n",
      "PERFORMANCE ON TEST SET: Batch Loss = 0.248729497194, Accuracy = 0.958000004292\n",
      "PERFORMANCE ON CROSS TEST SET: Batch Loss = 1.38309955597, Accuracy = 0.662299990654\n",
      "Training iter #450000:   Batch Loss = 0.173367, Accuracy = 0.97000002861\n",
      "PERFORMANCE ON TEST SET: Batch Loss = 0.24347999692, Accuracy = 0.95300000906\n",
      "PERFORMANCE ON CROSS TEST SET: Batch Loss = 1.38349866867, Accuracy = 0.652199983597\n",
      "Training iter #460000:   Batch Loss = 0.203777, Accuracy = 0.97000002861\n",
      "PERFORMANCE ON TEST SET: Batch Loss = 0.258081108332, Accuracy = 0.952000021935\n",
      "PERFORMANCE ON CROSS TEST SET: Batch Loss = 1.2960575819, Accuracy = 0.643299996853\n",
      "Training iter #470000:   Batch Loss = 0.150474, Accuracy = 0.990000009537\n",
      "PERFORMANCE ON TEST SET: Batch Loss = 0.263363212347, Accuracy = 0.947000026703\n",
      "PERFORMANCE ON CROSS TEST SET: Batch Loss = 1.78266751766, Accuracy = 0.520399987698\n",
      "Training iter #480000:   Batch Loss = 0.118333, Accuracy = 1.0\n",
      "PERFORMANCE ON TEST SET: Batch Loss = 0.22757537663, Accuracy = 0.958999991417\n",
      "PERFORMANCE ON CROSS TEST SET: Batch Loss = 1.371753335, Accuracy = 0.634100019932\n",
      "Training iter #490000:   Batch Loss = 0.264096, Accuracy = 0.959999978542\n",
      "PERFORMANCE ON TEST SET: Batch Loss = 0.303180754185, Accuracy = 0.898000001907\n",
      "PERFORMANCE ON CROSS TEST SET: Batch Loss = 1.22357106209, Accuracy = 0.663900017738\n",
      "Training iter #500000:   Batch Loss = 0.287608, Accuracy = 0.949999988079\n",
      "PERFORMANCE ON TEST SET: Batch Loss = 0.270888507366, Accuracy = 0.944000005722\n",
      "PERFORMANCE ON CROSS TEST SET: Batch Loss = 1.26557862759, Accuracy = 0.630200028419\n",
      "Training iter #510000:   Batch Loss = 0.179471, Accuracy = 0.959999978542\n",
      "PERFORMANCE ON TEST SET: Batch Loss = 0.255182415247, Accuracy = 0.934000015259\n",
      "PERFORMANCE ON CROSS TEST SET: Batch Loss = 1.56795966625, Accuracy = 0.605599999428\n",
      "Training iter #520000:   Batch Loss = 0.146204, Accuracy = 0.980000019073\n",
      "PERFORMANCE ON TEST SET: Batch Loss = 0.273965448141, Accuracy = 0.944999992847\n",
      "PERFORMANCE ON CROSS TEST SET: Batch Loss = 1.49617242813, Accuracy = 0.611999988556\n",
      "Training iter #530000:   Batch Loss = 0.256656, Accuracy = 0.949999988079\n",
      "PERFORMANCE ON TEST SET: Batch Loss = 0.263290375471, Accuracy = 0.947000026703\n",
      "PERFORMANCE ON CROSS TEST SET: Batch Loss = 1.50181388855, Accuracy = 0.589800000191\n",
      "Training iter #540000:   Batch Loss = 0.176599, Accuracy = 0.97000002861\n",
      "PERFORMANCE ON TEST SET: Batch Loss = 0.258662432432, Accuracy = 0.941999971867\n",
      "PERFORMANCE ON CROSS TEST SET: Batch Loss = 1.36248421669, Accuracy = 0.630900025368\n",
      "Training iter #550000:   Batch Loss = 0.200249, Accuracy = 0.97000002861\n",
      "PERFORMANCE ON TEST SET: Batch Loss = 0.334316879511, Accuracy = 0.884999990463\n",
      "PERFORMANCE ON CROSS TEST SET: Batch Loss = 1.32280898094, Accuracy = 0.639999985695\n",
      "Training iter #560000:   Batch Loss = 0.148680, Accuracy = 0.980000019073\n",
      "PERFORMANCE ON TEST SET: Batch Loss = 0.27122592926, Accuracy = 0.935000002384\n",
      "PERFORMANCE ON CROSS TEST SET: Batch Loss = 2.12288093567, Accuracy = 0.451999992132\n",
      "Training iter #570000:   Batch Loss = 0.121975, Accuracy = 0.990000009537\n",
      "PERFORMANCE ON TEST SET: Batch Loss = 0.309450775385, Accuracy = 0.930999994278\n",
      "PERFORMANCE ON CROSS TEST SET: Batch Loss = 1.47321581841, Accuracy = 0.637300014496\n",
      "Training iter #580000:   Batch Loss = 0.209371, Accuracy = 0.97000002861\n",
      "PERFORMANCE ON TEST SET: Batch Loss = 0.232032030821, Accuracy = 0.954999983311\n",
      "PERFORMANCE ON CROSS TEST SET: Batch Loss = 1.48606002331, Accuracy = 0.651499986649\n",
      "Training iter #590000:   Batch Loss = 0.153737, Accuracy = 0.990000009537\n",
      "PERFORMANCE ON TEST SET: Batch Loss = 0.252676725388, Accuracy = 0.947000026703\n",
      "PERFORMANCE ON CROSS TEST SET: Batch Loss = 1.19751238823, Accuracy = 0.649200022221\n",
      "Training iter #600000:   Batch Loss = 0.153566, Accuracy = 0.980000019073\n",
      "PERFORMANCE ON TEST SET: Batch Loss = 0.228696137667, Accuracy = 0.95300000906\n",
      "PERFORMANCE ON CROSS TEST SET: Batch Loss = 1.40790319443, Accuracy = 0.634500026703\n",
      "Training iter #610000:   Batch Loss = 0.121180, Accuracy = 0.990000009537\n",
      "PERFORMANCE ON TEST SET: Batch Loss = 0.230816349387, Accuracy = 0.953999996185\n",
      "PERFORMANCE ON CROSS TEST SET: Batch Loss = 1.53694844246, Accuracy = 0.591700017452\n",
      "Training iter #620000:   Batch Loss = 0.274423, Accuracy = 0.949999988079\n",
      "PERFORMANCE ON TEST SET: Batch Loss = 0.239981681108, Accuracy = 0.952000021935\n",
      "PERFORMANCE ON CROSS TEST SET: Batch Loss = 1.43457067013, Accuracy = 0.611299991608\n",
      "Training iter #630000:   Batch Loss = 0.189268, Accuracy = 0.959999978542\n",
      "PERFORMANCE ON TEST SET: Batch Loss = 0.282111883163, Accuracy = 0.936999976635\n",
      "PERFORMANCE ON CROSS TEST SET: Batch Loss = 1.38782787323, Accuracy = 0.624800026417\n",
      "Training iter #640000:   Batch Loss = 0.192799, Accuracy = 0.97000002861\n",
      "PERFORMANCE ON TEST SET: Batch Loss = 0.270726412535, Accuracy = 0.944000005722\n",
      "PERFORMANCE ON CROSS TEST SET: Batch Loss = 1.42567312717, Accuracy = 0.643199980259\n",
      "Training iter #650000:   Batch Loss = 0.125075, Accuracy = 1.0\n",
      "PERFORMANCE ON TEST SET: Batch Loss = 0.279499918222, Accuracy = 0.930000007153\n",
      "PERFORMANCE ON CROSS TEST SET: Batch Loss = 1.42391431332, Accuracy = 0.603399991989\n",
      "Training iter #660000:   Batch Loss = 0.167114, Accuracy = 0.980000019073\n",
      "PERFORMANCE ON TEST SET: Batch Loss = 0.198652878404, Accuracy = 0.966000020504\n",
      "PERFORMANCE ON CROSS TEST SET: Batch Loss = 1.31632733345, Accuracy = 0.639400005341\n",
      "Training iter #670000:   Batch Loss = 0.171061, Accuracy = 0.97000002861\n",
      "PERFORMANCE ON TEST SET: Batch Loss = 0.242886543274, Accuracy = 0.944999992847\n",
      "PERFORMANCE ON CROSS TEST SET: Batch Loss = 1.46743261814, Accuracy = 0.64099997282\n",
      "Training iter #680000:   Batch Loss = 0.143402, Accuracy = 0.990000009537\n",
      "PERFORMANCE ON TEST SET: Batch Loss = 0.252334117889, Accuracy = 0.93599998951\n",
      "PERFORMANCE ON CROSS TEST SET: Batch Loss = 1.28885304928, Accuracy = 0.635699987411\n",
      "Training iter #690000:   Batch Loss = 0.169576, Accuracy = 0.97000002861\n"
     ]
    },
    {
     "name": "stdout",
     "output_type": "stream",
     "text": [
      "PERFORMANCE ON TEST SET: Batch Loss = 0.197104200721, Accuracy = 0.962000012398\n",
      "PERFORMANCE ON CROSS TEST SET: Batch Loss = 1.39301717281, Accuracy = 0.644900023937\n",
      "Training iter #700000:   Batch Loss = 0.122721, Accuracy = 1.0\n",
      "PERFORMANCE ON TEST SET: Batch Loss = 0.290351599455, Accuracy = 0.940999984741\n",
      "PERFORMANCE ON CROSS TEST SET: Batch Loss = 1.31220602989, Accuracy = 0.619099974632\n",
      "Training iter #710000:   Batch Loss = 0.270127, Accuracy = 0.939999997616\n",
      "PERFORMANCE ON TEST SET: Batch Loss = 0.420501500368, Accuracy = 0.871999979019\n",
      "PERFORMANCE ON CROSS TEST SET: Batch Loss = 1.24045050144, Accuracy = 0.639199972153\n",
      "Training iter #720000:   Batch Loss = 0.204833, Accuracy = 0.959999978542\n",
      "PERFORMANCE ON TEST SET: Batch Loss = 0.262026965618, Accuracy = 0.947000026703\n",
      "PERFORMANCE ON CROSS TEST SET: Batch Loss = 1.32458472252, Accuracy = 0.650399982929\n",
      "Training iter #730000:   Batch Loss = 0.169445, Accuracy = 0.980000019073\n",
      "PERFORMANCE ON TEST SET: Batch Loss = 0.261676579714, Accuracy = 0.950999975204\n",
      "PERFORMANCE ON CROSS TEST SET: Batch Loss = 1.31109690666, Accuracy = 0.571200013161\n",
      "Training iter #740000:   Batch Loss = 0.129681, Accuracy = 0.990000009537\n",
      "PERFORMANCE ON TEST SET: Batch Loss = 0.305380225182, Accuracy = 0.930999994278\n",
      "PERFORMANCE ON CROSS TEST SET: Batch Loss = 1.24036407471, Accuracy = 0.67460000515\n",
      "Training iter #750000:   Batch Loss = 0.128866, Accuracy = 0.990000009537\n",
      "PERFORMANCE ON TEST SET: Batch Loss = 0.273790329695, Accuracy = 0.948000013828\n",
      "PERFORMANCE ON CROSS TEST SET: Batch Loss = 1.47967779636, Accuracy = 0.538800001144\n",
      "Training iter #760000:   Batch Loss = 0.153911, Accuracy = 0.980000019073\n",
      "PERFORMANCE ON TEST SET: Batch Loss = 0.218160331249, Accuracy = 0.957000017166\n",
      "PERFORMANCE ON CROSS TEST SET: Batch Loss = 1.34088671207, Accuracy = 0.616100013256\n",
      "Training iter #770000:   Batch Loss = 0.146292, Accuracy = 0.980000019073\n",
      "PERFORMANCE ON TEST SET: Batch Loss = 0.25027602911, Accuracy = 0.950999975204\n",
      "PERFORMANCE ON CROSS TEST SET: Batch Loss = 1.34992587566, Accuracy = 0.625100016594\n",
      "Training iter #780000:   Batch Loss = 0.222787, Accuracy = 0.97000002861\n",
      "PERFORMANCE ON TEST SET: Batch Loss = 0.22101277113, Accuracy = 0.958000004292\n",
      "PERFORMANCE ON CROSS TEST SET: Batch Loss = 1.52569925785, Accuracy = 0.608200013638\n",
      "Training iter #790000:   Batch Loss = 0.129814, Accuracy = 0.990000009537\n",
      "PERFORMANCE ON TEST SET: Batch Loss = 0.273523628712, Accuracy = 0.938000023365\n",
      "PERFORMANCE ON CROSS TEST SET: Batch Loss = 1.69015967846, Accuracy = 0.510399997234\n",
      "Training iter #800000:   Batch Loss = 0.207514, Accuracy = 0.97000002861\n",
      "PERFORMANCE ON TEST SET: Batch Loss = 0.301523655653, Accuracy = 0.915000021458\n",
      "PERFORMANCE ON CROSS TEST SET: Batch Loss = 1.40648019314, Accuracy = 0.543099999428\n",
      "Training iter #810000:   Batch Loss = 0.225299, Accuracy = 0.959999978542\n",
      "PERFORMANCE ON TEST SET: Batch Loss = 0.272262185812, Accuracy = 0.926999986172\n",
      "PERFORMANCE ON CROSS TEST SET: Batch Loss = 1.24872112274, Accuracy = 0.65909999609\n",
      "Training iter #820000:   Batch Loss = 0.222563, Accuracy = 0.949999988079\n",
      "PERFORMANCE ON TEST SET: Batch Loss = 0.239103451371, Accuracy = 0.953999996185\n",
      "PERFORMANCE ON CROSS TEST SET: Batch Loss = 1.32098925114, Accuracy = 0.644200026989\n",
      "Training iter #830000:   Batch Loss = 0.139404, Accuracy = 0.980000019073\n",
      "PERFORMANCE ON TEST SET: Batch Loss = 0.2636924088, Accuracy = 0.948000013828\n",
      "PERFORMANCE ON CROSS TEST SET: Batch Loss = 1.71907818317, Accuracy = 0.541499972343\n",
      "Training iter #840000:   Batch Loss = 0.098140, Accuracy = 1.0\n",
      "PERFORMANCE ON TEST SET: Batch Loss = 0.251066476107, Accuracy = 0.944999992847\n",
      "PERFORMANCE ON CROSS TEST SET: Batch Loss = 1.3755863905, Accuracy = 0.662800014019\n",
      "Training iter #850000:   Batch Loss = 0.181363, Accuracy = 0.959999978542\n",
      "PERFORMANCE ON TEST SET: Batch Loss = 0.235083445907, Accuracy = 0.949000000954\n",
      "PERFORMANCE ON CROSS TEST SET: Batch Loss = 1.29148614407, Accuracy = 0.644599974155\n",
      "Training iter #860000:   Batch Loss = 0.166772, Accuracy = 0.97000002861\n",
      "PERFORMANCE ON TEST SET: Batch Loss = 0.255277693272, Accuracy = 0.949000000954\n",
      "PERFORMANCE ON CROSS TEST SET: Batch Loss = 1.47614622116, Accuracy = 0.612200021744\n",
      "Training iter #870000:   Batch Loss = 0.186027, Accuracy = 0.939999997616\n",
      "PERFORMANCE ON TEST SET: Batch Loss = 0.204685345292, Accuracy = 0.962999999523\n",
      "PERFORMANCE ON CROSS TEST SET: Batch Loss = 1.37107872963, Accuracy = 0.649699985981\n",
      "Training iter #880000:   Batch Loss = 0.102183, Accuracy = 1.0\n",
      "PERFORMANCE ON TEST SET: Batch Loss = 0.203795701265, Accuracy = 0.963999986649\n",
      "PERFORMANCE ON CROSS TEST SET: Batch Loss = 1.31195163727, Accuracy = 0.658500015736\n",
      "Training iter #890000:   Batch Loss = 0.207320, Accuracy = 0.949999988079\n",
      "PERFORMANCE ON TEST SET: Batch Loss = 0.216526538134, Accuracy = 0.958000004292\n",
      "PERFORMANCE ON CROSS TEST SET: Batch Loss = 1.26878702641, Accuracy = 0.650600016117\n",
      "Training iter #900000:   Batch Loss = 0.192983, Accuracy = 0.959999978542\n",
      "PERFORMANCE ON TEST SET: Batch Loss = 0.238585025072, Accuracy = 0.958999991417\n",
      "PERFORMANCE ON CROSS TEST SET: Batch Loss = 1.33246600628, Accuracy = 0.635500013828\n",
      "Optimization Finished!\n"
     ]
    },
    {
     "data": {
      "text/plain": [
       "'./Checkpoints/final/finalmodel.ckpt'"
      ]
     },
     "execution_count": 25,
     "metadata": {},
     "output_type": "execute_result"
    }
   ],
   "source": [
    "# To keep track of training's performance\n",
    "test_losses = []\n",
    "test_accuracies = []\n",
    "test_cross_losses = []\n",
    "test_cross_accuracies = []\n",
    "train_losses = []\n",
    "train_accuracies = []\n",
    "\n",
    "# Launch the graph\n",
    "saver = tf.train.Saver()\n",
    "sess = tf.InteractiveSession(config=tf.ConfigProto(log_device_placement=True))\n",
    "init = tf.global_variables_initializer()\n",
    "sess.run(init)\n",
    "saver.save(sess, './Checkpoints/mytestmodel.ckpt')\n",
    "\n",
    "# Perform Training steps with \"batch_size\" amount of example data at each loop\n",
    "step = 1\n",
    "while step * batch_size <= training_iters:\n",
    "    batch_xs =         extract_batch_size(X_train, step, batch_size)\n",
    "    batch_ys = one_hot(extract_batch_size(y_train, step, batch_size))\n",
    "\n",
    "    # Fit training using batch data\n",
    "    _, loss, acc = sess.run(\n",
    "        [optimizer, cost, accuracy],\n",
    "        feed_dict={\n",
    "            x: batch_xs, \n",
    "            y: batch_ys,\n",
    "            keep_prob : dropout\n",
    "        }\n",
    "    )\n",
    "    train_losses.append(loss)\n",
    "    train_accuracies.append(acc)\n",
    "    \n",
    "    # Evaluate network only at some steps for faster training: \n",
    "    if (step*batch_size % display_iter == 0) or (step == 1) or (step * batch_size > training_iters):\n",
    "        saver.save(sess, './Checkpoints/mytestmodel.ckpt', global_step=step,write_meta_graph=False)\n",
    "        \n",
    "        # To not spam console, show training accuracy/loss in this \"if\"\n",
    "        print(\"Training iter #\" + str(step*batch_size) + \\\n",
    "              \":   Batch Loss = \" + \"{:.6f}\".format(loss) + \\\n",
    "              \", Accuracy = {}\".format(acc))\n",
    "        \n",
    "        # Evaluation on the test set (no learning made here - just evaluation for diagnosis)\n",
    "        loss, acc = sess.run(\n",
    "            [cost, accuracy], \n",
    "            feed_dict={\n",
    "                x: X_test,\n",
    "                y: one_hot(y_test),\n",
    "                keep_prob : 1.0\n",
    "            }\n",
    "        )\n",
    "        test_losses.append(loss)\n",
    "        test_accuracies.append(acc)\n",
    "        print(\"PERFORMANCE ON TEST SET: \" + \\\n",
    "              \"Batch Loss = {}\".format(loss) + \\\n",
    "              \", Accuracy = {}\".format(acc))\n",
    "        \n",
    "        # Evaluation on the cross test set (no learning made here - just evaluation for diagnosis)\n",
    "        loss_c, acc_c = sess.run(\n",
    "            [cost, accuracy], \n",
    "            feed_dict={\n",
    "                x: X_c,\n",
    "                y: one_hot(Y_c),\n",
    "                keep_prob : 1.0\n",
    "            }\n",
    "        )\n",
    "        test_cross_losses.append(loss_c)\n",
    "        test_cross_accuracies.append(acc_c)\n",
    "        print(\"PERFORMANCE ON CROSS TEST SET: \" + \\\n",
    "              \"Batch Loss = {}\".format(loss_c) + \\\n",
    "              \", Accuracy = {}\".format(acc_c))\n",
    "\n",
    "    step += 1\n",
    "\n",
    "print(\"Optimization Finished!\")\n",
    "saver.save(sess, './Checkpoints/final/finalmodel.ckpt')"
   ]
  },
  {
   "cell_type": "code",
   "execution_count": 34,
   "metadata": {},
   "outputs": [
    {
     "name": "stdout",
     "output_type": "stream",
     "text": [
      "INFO:tensorflow:Restoring parameters from ./Checkpoints/final/finalmodel.ckpt\n",
      "FINAL RESULT: Batch Loss = 0.238585025072, Accuracy = 0.958999991417\n"
     ]
    }
   ],
   "source": [
    "# Accuracy for test data\n",
    "sess = tf.Session()\n",
    "saver.restore(sess, \"./Checkpoints/final/finalmodel.ckpt\")\n",
    "one_hot_predictions, acc, final_loss = sess.run(\n",
    "    [pred, accuracy, cost],\n",
    "    feed_dict={\n",
    "        x: X_test,\n",
    "        y: one_hot(y_test),\n",
    "        keep_prob : 1.0\n",
    "    }\n",
    ")\n",
    "\n",
    "test_losses.append(final_loss)\n",
    "test_accuracies.append(acc)\n",
    "\n",
    "print(\"FINAL RESULT: \" + \\\n",
    "      \"Batch Loss = {}\".format(final_loss) + \\\n",
    "      \", Accuracy = {}\".format(acc))"
   ]
  },
  {
   "cell_type": "code",
   "execution_count": 35,
   "metadata": {},
   "outputs": [
    {
     "name": "stdout",
     "output_type": "stream",
     "text": [
      "FINAL RESULT Cross Data: Batch Loss = 1.33246600628, Accuracy = 0.635500013828\n"
     ]
    }
   ],
   "source": [
    "# Accuracy for cross test data\n",
    "one_hot_predictions_c, accuracy_c, final_loss_c = sess.run(\n",
    "    [pred, accuracy, cost],\n",
    "    feed_dict={\n",
    "        x: X_c,\n",
    "        y: one_hot(Y_c),\n",
    "        keep_prob : 1.0\n",
    "    }\n",
    ")\n",
    "\n",
    "print(\"FINAL RESULT Cross Data: \" + \\\n",
    "      \"Batch Loss = {}\".format(final_loss_c) + \\\n",
    "      \", Accuracy = {}\".format(accuracy_c))"
   ]
  },
  {
   "cell_type": "markdown",
   "metadata": {},
   "source": [
    "## Training is good, but having visual insight is even better:\n",
    "\n",
    "Okay, let's plot this simply in the notebook for now."
   ]
  },
  {
   "cell_type": "code",
   "execution_count": 36,
   "metadata": {},
   "outputs": [
    {
     "data": {
      "image/png": "[encoded data removed]",
      "text/plain": [
       "<Figure size 864x864 with 1 Axes>"
      ]
     },
     "metadata": {},
     "output_type": "display_data"
    }
   ],
   "source": [
    "# (Inline plots: )\n",
    "%matplotlib inline\n",
    "\n",
    "font = {\n",
    "    'family' : 'Bitstream Vera Sans',\n",
    "    'weight' : 'bold',\n",
    "    'size'   : 18\n",
    "}\n",
    "matplotlib.rc('font', **font)\n",
    "\n",
    "width = 12\n",
    "height = 12\n",
    "plt.figure(figsize=(width, height))\n",
    "\n",
    "indep_train_axis = np.array(range(batch_size, (len(train_losses)+1)*batch_size, batch_size))\n",
    "plt.plot(indep_train_axis, np.array(train_losses),     \"b--\", label=\"Train losses\")\n",
    "plt.plot(indep_train_axis, np.array(train_accuracies), \"b-\", label=\"Train accuracies\")\n",
    "\n",
    "indep_test_axis = np.append(\n",
    "    np.array(range(batch_size, len(test_losses)*display_iter, display_iter)[:-1]),\n",
    "    [training_iters]\n",
    ")\n",
    "plt.plot(indep_test_axis, np.array(test_losses),     \"g--\", label=\"Test losses\")\n",
    "plt.plot(indep_test_axis, np.array(test_accuracies), \"g-\", label=\"Test accuracies\")\n",
    "\n",
    "indep_test_c_axis = np.append(\n",
    "   np.array(range(batch_size, len(test_cross_losses)*display_iter, display_iter)[:-1]),\n",
    "   [training_iters]\n",
    ")\n",
    "plt.plot(indep_test_c_axis, np.array(test_cross_losses),     \"r--\", label=\"Test cross losses\")\n",
    "plt.plot(indep_test_c_axis, np.array(test_cross_accuracies), \"r-\", label=\"Test cross accuracies\")\n",
    "\n",
    "plt.title(\"Training session's progress over iterations\")\n",
    "plt.legend(loc='upper right', shadow=True)\n",
    "plt.ylabel('Training Progress (Loss or Accuracy values)')\n",
    "plt.xlabel('Training iteration')\n",
    "\n",
    "plt.show()"
   ]
  },
  {
   "cell_type": "markdown",
   "metadata": {},
   "source": [
    "## And finally, the multi-class confusion matrix and metrics!"
   ]
  },
  {
   "cell_type": "code",
   "execution_count": 44,
   "metadata": {},
   "outputs": [
    {
     "name": "stdout",
     "output_type": "stream",
     "text": [
      "Testing Accuracy: Tensor(\"mul_6:0\", shape=(), dtype=float32)%\n",
      "\n",
      "Precision: 96.0313235883%\n",
      "Recall: 95.9%\n",
      "f1_score: 95.941159426%\n",
      "\n",
      "Confusion Matrix:\n",
      "[[579   2   4  10]\n",
      " [  1 177   1   2]\n",
      " [  2   4  91   6]\n",
      " [  0   3   6 112]]\n",
      "\n",
      "Confusion matrix (normalised to % of total test data):\n",
      "[[57.9       0.2       0.4       1.      ]\n",
      " [ 0.1      17.7       0.1       0.2     ]\n",
      " [ 0.2       0.4       9.099999  0.6     ]\n",
      " [ 0.        0.3       0.6      11.200001]]\n",
      "Note: training and testing data is not equally distributed amongst classes, \n",
      "so it is normal that more than a 4th of the data is correctly classifier in the last category.\n"
     ]
    },
    {
     "data": {
      "image/png": "[encoded data removed]",
      "text/plain": [
       "<Figure size 864x864 with 2 Axes>"
      ]
     },
     "metadata": {},
     "output_type": "display_data"
    }
   ],
   "source": [
    "# Results\n",
    "\n",
    "predictions = one_hot_predictions.argmax(1)\n",
    "\n",
    "print(\"Testing Accuracy: {}%\".format(100*accuracy))\n",
    "\n",
    "print(\"\")\n",
    "print(\"Precision: {}%\".format(100*metrics.precision_score(y_test, predictions, average=\"weighted\")))\n",
    "print(\"Recall: {}%\".format(100*metrics.recall_score(y_test, predictions, average=\"weighted\")))\n",
    "print(\"f1_score: {}%\".format(100*metrics.f1_score(y_test, predictions, average=\"weighted\")))\n",
    "\n",
    "print(\"\")\n",
    "print(\"Confusion Matrix:\")\n",
    "confusion_matrix = metrics.confusion_matrix(y_test, predictions)\n",
    "print(confusion_matrix)\n",
    "normalised_confusion_matrix = np.array(confusion_matrix, dtype=np.float32)/np.sum(confusion_matrix)*100\n",
    "\n",
    "print(\"\")\n",
    "print(\"Confusion matrix (normalised to % of total test data):\")\n",
    "print(normalised_confusion_matrix)\n",
    "print(\"Note: training and testing data is not equally distributed amongst classes, \")\n",
    "print(\"so it is normal that more than a 4th of the data is correctly classifier in the last category.\")\n",
    "\n",
    "# Plot Results: \n",
    "width = 12\n",
    "height = 12\n",
    "plt.figure(figsize=(width, height))\n",
    "plt.imshow(\n",
    "    normalised_confusion_matrix, \n",
    "    interpolation='nearest', \n",
    "    cmap=plt.cm.rainbow\n",
    ")\n",
    "plt.title(\"Confusion matrix on same person \\n(normalised to % of total test data)\")\n",
    "plt.colorbar()\n",
    "tick_marks = np.arange(n_classes)\n",
    "plt.xticks(tick_marks, LABELS, rotation=90)\n",
    "plt.yticks(tick_marks, LABELS)\n",
    "plt.tight_layout()\n",
    "plt.ylabel('True label')\n",
    "plt.xlabel('Predicted label')\n",
    "plt.show()"
   ]
  },
  {
   "cell_type": "code",
   "execution_count": 45,
   "metadata": {},
   "outputs": [
    {
     "name": "stdout",
     "output_type": "stream",
     "text": [
      "Testing Accuracy: Tensor(\"mul_7:0\", shape=(), dtype=float32)%\n",
      "\n",
      "Precision: 65.2050909701%\n",
      "Recall: 63.55%\n",
      "f1_score: 63.0264378139%\n",
      "\n",
      "Confusion Matrix:\n",
      "[[2715   83  426   98]\n",
      " [ 559  958 1299   70]\n",
      " [  25  559  974  321]\n",
      " [  11   64  130 1708]]\n",
      "\n",
      "Confusion matrix (normalised to % of total test data):\n",
      "[[27.15        0.83        4.2599998   0.98      ]\n",
      " [ 5.59        9.58       12.99        0.70000005]\n",
      " [ 0.25        5.59        9.74        3.21      ]\n",
      " [ 0.11        0.64        1.3000001  17.08      ]]\n",
      "Note: training and testing data is not equally distributed amongst classes, \n",
      "so it is normal that more than a 4th of the data is correctly classifier in the last category.\n"
     ]
    },
    {
     "data": {
      "image/png": "[encoded data removed]",
      "text/plain": [
       "<Figure size 864x864 with 2 Axes>"
      ]
     },
     "metadata": {},
     "output_type": "display_data"
    }
   ],
   "source": [
    "# Results\n",
    "\n",
    "predictions = one_hot_predictions_c.argmax(1)\n",
    "\n",
    "print(\"Testing Accuracy: {}%\".format(100*accuracy))\n",
    "\n",
    "print(\"\")\n",
    "print(\"Precision: {}%\".format(100*metrics.precision_score(Y_c, predictions, average=\"weighted\")))\n",
    "print(\"Recall: {}%\".format(100*metrics.recall_score(Y_c, predictions, average=\"weighted\")))\n",
    "print(\"f1_score: {}%\".format(100*metrics.f1_score(Y_c, predictions, average=\"weighted\")))\n",
    "\n",
    "print(\"\")\n",
    "print(\"Confusion Matrix:\")\n",
    "confusion_matrix = metrics.confusion_matrix(Y_c, predictions)\n",
    "print(confusion_matrix)\n",
    "normalised_confusion_matrix = np.array(confusion_matrix, dtype=np.float32)/np.sum(confusion_matrix)*100\n",
    "\n",
    "print(\"\")\n",
    "print(\"Confusion matrix (normalised to % of total test data):\")\n",
    "print(normalised_confusion_matrix)\n",
    "print(\"Note: training and testing data is not equally distributed amongst classes, \")\n",
    "print(\"so it is normal that more than a 4th of the data is correctly classifier in the last category.\")\n",
    "\n",
    "# Plot Results: \n",
    "width = 12\n",
    "height = 12\n",
    "plt.figure(figsize=(width, height))\n",
    "plt.imshow(\n",
    "    normalised_confusion_matrix, \n",
    "    interpolation='nearest', \n",
    "    cmap=plt.cm.rainbow\n",
    ")\n",
    "plt.title(\"Confusion matrix on cross person \\n(normalised to % of total test data)\")\n",
    "plt.colorbar()\n",
    "tick_marks = np.arange(n_classes)\n",
    "plt.xticks(tick_marks, LABELS, rotation=90)\n",
    "plt.yticks(tick_marks, LABELS)\n",
    "plt.tight_layout()\n",
    "plt.ylabel('True label')\n",
    "plt.xlabel('Predicted label')\n",
    "plt.show()"
   ]
  },
  {
   "cell_type": "code",
   "execution_count": 38,
   "metadata": {},
   "outputs": [],
   "source": [
    "sess.close()"
   ]
  },
  {
   "cell_type": "markdown",
   "metadata": {},
   "source": [
    "## Conclusion\n",
    "\n",
    "Outstandingly, **the final accuracy is of 93.6%**! And it can peak to values such as 95.6%, at some moments of luck during the training, depending on how the neural network's weights got initialized at the start of the training, randomly. \n",
    "\n",
    "This means that the neural networks is almost always able to correctly identify the movement type!\n",
    "\n",
    "I specially did not expect such good results for guessing between \"WALKING\" and \"STANDING\". Those are seemingly almost the same thing from the point of view of a device placed at wrist level according to how the dataset was gathered. Thought, it is still possible to see a little cluster on the matrix between those classes, which drifts away from the identity. This is great.\n",
    "\n",
    "## References\n",
    "\n",
    "The code is based on the following repository: \n",
    "> Guillaume Chevalier, LSTMs for Human Activity Recognition, 2016\n",
    "> https://github.com/guillaume-chevalier/LSTM-Human-Activity-Recognition\n"
   ]
  },
  {
   "cell_type": "code",
   "execution_count": 46,
   "metadata": {},
   "outputs": [
    {
     "name": "stdout",
     "output_type": "stream",
     "text": [
      "[NbConvertApp] Converting notebook LSTM.ipynb to markdown\n",
      "[NbConvertApp] Support files will be in LSTM_files/\n",
      "[NbConvertApp] Making directory LSTM_files\n",
      "[NbConvertApp] Making directory LSTM_files\n",
      "[NbConvertApp] Making directory LSTM_files\n",
      "[NbConvertApp] Writing 48861 bytes to LSTM.md\n"
     ]
    }
   ],
   "source": [
    "# Let's convert this notebook to a README for the GitHub project's title page:\n",
    "!jupyter nbconvert --to markdown LSTM.ipynb\n",
    "!mv LSTM.md README.md"
   ]
  }
 ],
 "metadata": {
  "hide_input": false,
  "kernelspec": {
   "display_name": "Python 2",
   "language": "python",
   "name": "python2"
  },
  "language_info": {
   "codemirror_mode": {
    "name": "ipython",
    "version": 2
   },
   "file_extension": ".py",
   "mimetype": "text/x-python",
   "name": "python",
   "nbconvert_exporter": "python",
   "pygments_lexer": "ipython2",
   "version": "2.7.12"
  }
 },
 "nbformat": 4,
 "nbformat_minor": 2
}
